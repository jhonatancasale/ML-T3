{
 "cells": [
  {
   "cell_type": "markdown",
   "metadata": {},
   "source": [
    "# Estudo das _Features_\n",
    "\n",
    "&nbsp;&nbsp;Dado que, boa parte do desempenho e resultado das técnicas vistas em sala de aula são diretamente impactadas pela escolha ou tratamento do espaço de entrada (ou espaço de amostras) nessa parte de nosso projeto iremos fazer um estudo das _features_, possiveis correlações e principalmente remoção das features pouco significativas."
   ]
  },
  {
   "cell_type": "code",
   "execution_count": 1,
   "metadata": {
    "collapsed": true
   },
   "outputs": [],
   "source": [
    "load_dataset <- function(filename) {\n",
    "   # Load and return the content of `filename` into a DataFrame\n",
    "   read.csv(filename)\n",
    "}"
   ]
  },
  {
   "cell_type": "code",
   "execution_count": 2,
   "metadata": {
    "collapsed": false
   },
   "outputs": [
    {
     "data": {
      "text/html": [
       "<table>\n",
       "<thead><tr><th scope=col>gender</th><th scope=col>NationalITy</th><th scope=col>PlaceofBirth</th><th scope=col>StageID</th><th scope=col>GradeID</th><th scope=col>SectionID</th><th scope=col>Topic</th><th scope=col>Semester</th><th scope=col>Relation</th><th scope=col>raisedhands</th><th scope=col>VisITedResources</th><th scope=col>AnnouncementsView</th><th scope=col>Discussion</th><th scope=col>ParentAnsweringSurvey</th><th scope=col>ParentschoolSatisfaction</th><th scope=col>StudentAbsenceDays</th><th scope=col>Class</th></tr></thead>\n",
       "<tbody>\n",
       "\t<tr><td>M         </td><td>KW        </td><td>KuwaIT    </td><td>lowerlevel</td><td>G-04      </td><td>A         </td><td>IT        </td><td>F         </td><td>Father    </td><td>15        </td><td>16        </td><td> 2        </td><td>20        </td><td>Yes       </td><td>Good      </td><td>Under-7   </td><td>M         </td></tr>\n",
       "\t<tr><td>M         </td><td>KW        </td><td>KuwaIT    </td><td>lowerlevel</td><td>G-04      </td><td>A         </td><td>IT        </td><td>F         </td><td>Father    </td><td>20        </td><td>20        </td><td> 3        </td><td>25        </td><td>Yes       </td><td>Good      </td><td>Under-7   </td><td>M         </td></tr>\n",
       "\t<tr><td>M         </td><td>KW        </td><td>KuwaIT    </td><td>lowerlevel</td><td>G-04      </td><td>A         </td><td>IT        </td><td>F         </td><td>Father    </td><td>10        </td><td> 7        </td><td> 0        </td><td>30        </td><td>No        </td><td>Bad       </td><td>Above-7   </td><td>L         </td></tr>\n",
       "\t<tr><td>M         </td><td>KW        </td><td>KuwaIT    </td><td>lowerlevel</td><td>G-04      </td><td>A         </td><td>IT        </td><td>F         </td><td>Father    </td><td>30        </td><td>25        </td><td> 5        </td><td>35        </td><td>No        </td><td>Bad       </td><td>Above-7   </td><td>L         </td></tr>\n",
       "\t<tr><td>M         </td><td>KW        </td><td>KuwaIT    </td><td>lowerlevel</td><td>G-04      </td><td>A         </td><td>IT        </td><td>F         </td><td>Father    </td><td>40        </td><td>50        </td><td>12        </td><td>50        </td><td>No        </td><td>Bad       </td><td>Above-7   </td><td>M         </td></tr>\n",
       "\t<tr><td>F         </td><td>KW        </td><td>KuwaIT    </td><td>lowerlevel</td><td>G-04      </td><td>A         </td><td>IT        </td><td>F         </td><td>Father    </td><td>42        </td><td>30        </td><td>13        </td><td>70        </td><td>Yes       </td><td>Bad       </td><td>Above-7   </td><td>M         </td></tr>\n",
       "</tbody>\n",
       "</table>\n"
      ],
      "text/latex": [
       "\\begin{tabular}{r|lllllllllllllllll}\n",
       " gender & NationalITy & PlaceofBirth & StageID & GradeID & SectionID & Topic & Semester & Relation & raisedhands & VisITedResources & AnnouncementsView & Discussion & ParentAnsweringSurvey & ParentschoolSatisfaction & StudentAbsenceDays & Class\\\\\n",
       "\\hline\n",
       "\t M          & KW         & KuwaIT     & lowerlevel & G-04       & A          & IT         & F          & Father     & 15         & 16         &  2         & 20         & Yes        & Good       & Under-7    & M         \\\\\n",
       "\t M          & KW         & KuwaIT     & lowerlevel & G-04       & A          & IT         & F          & Father     & 20         & 20         &  3         & 25         & Yes        & Good       & Under-7    & M         \\\\\n",
       "\t M          & KW         & KuwaIT     & lowerlevel & G-04       & A          & IT         & F          & Father     & 10         &  7         &  0         & 30         & No         & Bad        & Above-7    & L         \\\\\n",
       "\t M          & KW         & KuwaIT     & lowerlevel & G-04       & A          & IT         & F          & Father     & 30         & 25         &  5         & 35         & No         & Bad        & Above-7    & L         \\\\\n",
       "\t M          & KW         & KuwaIT     & lowerlevel & G-04       & A          & IT         & F          & Father     & 40         & 50         & 12         & 50         & No         & Bad        & Above-7    & M         \\\\\n",
       "\t F          & KW         & KuwaIT     & lowerlevel & G-04       & A          & IT         & F          & Father     & 42         & 30         & 13         & 70         & Yes        & Bad        & Above-7    & M         \\\\\n",
       "\\end{tabular}\n"
      ],
      "text/markdown": [
       "\n",
       "gender | NationalITy | PlaceofBirth | StageID | GradeID | SectionID | Topic | Semester | Relation | raisedhands | VisITedResources | AnnouncementsView | Discussion | ParentAnsweringSurvey | ParentschoolSatisfaction | StudentAbsenceDays | Class | \n",
       "|---|---|---|---|---|---|\n",
       "| M          | KW         | KuwaIT     | lowerlevel | G-04       | A          | IT         | F          | Father     | 15         | 16         |  2         | 20         | Yes        | Good       | Under-7    | M          | \n",
       "| M          | KW         | KuwaIT     | lowerlevel | G-04       | A          | IT         | F          | Father     | 20         | 20         |  3         | 25         | Yes        | Good       | Under-7    | M          | \n",
       "| M          | KW         | KuwaIT     | lowerlevel | G-04       | A          | IT         | F          | Father     | 10         |  7         |  0         | 30         | No         | Bad        | Above-7    | L          | \n",
       "| M          | KW         | KuwaIT     | lowerlevel | G-04       | A          | IT         | F          | Father     | 30         | 25         |  5         | 35         | No         | Bad        | Above-7    | L          | \n",
       "| M          | KW         | KuwaIT     | lowerlevel | G-04       | A          | IT         | F          | Father     | 40         | 50         | 12         | 50         | No         | Bad        | Above-7    | M          | \n",
       "| F          | KW         | KuwaIT     | lowerlevel | G-04       | A          | IT         | F          | Father     | 42         | 30         | 13         | 70         | Yes        | Bad        | Above-7    | M          | \n",
       "\n",
       "\n"
      ],
      "text/plain": [
       "  gender NationalITy PlaceofBirth StageID    GradeID SectionID Topic Semester\n",
       "1 M      KW          KuwaIT       lowerlevel G-04    A         IT    F       \n",
       "2 M      KW          KuwaIT       lowerlevel G-04    A         IT    F       \n",
       "3 M      KW          KuwaIT       lowerlevel G-04    A         IT    F       \n",
       "4 M      KW          KuwaIT       lowerlevel G-04    A         IT    F       \n",
       "5 M      KW          KuwaIT       lowerlevel G-04    A         IT    F       \n",
       "6 F      KW          KuwaIT       lowerlevel G-04    A         IT    F       \n",
       "  Relation raisedhands VisITedResources AnnouncementsView Discussion\n",
       "1 Father   15          16                2                20        \n",
       "2 Father   20          20                3                25        \n",
       "3 Father   10           7                0                30        \n",
       "4 Father   30          25                5                35        \n",
       "5 Father   40          50               12                50        \n",
       "6 Father   42          30               13                70        \n",
       "  ParentAnsweringSurvey ParentschoolSatisfaction StudentAbsenceDays Class\n",
       "1 Yes                   Good                     Under-7            M    \n",
       "2 Yes                   Good                     Under-7            M    \n",
       "3 No                    Bad                      Above-7            L    \n",
       "4 No                    Bad                      Above-7            L    \n",
       "5 No                    Bad                      Above-7            M    \n",
       "6 Yes                   Bad                      Above-7            M    "
      ]
     },
     "metadata": {},
     "output_type": "display_data"
    }
   ],
   "source": [
    "dataset <- load_dataset(\"../dataset/xAPI-Edu-Data-full.csv\")\n",
    "head(dataset)"
   ]
  },
  {
   "cell_type": "code",
   "execution_count": 3,
   "metadata": {
    "collapsed": false
   },
   "outputs": [
    {
     "name": "stdout",
     "output_type": "stream",
     "text": [
      "'data.frame':\t480 obs. of  17 variables:\n",
      " $ gender                  : Factor w/ 2 levels \"F\",\"M\": 2 2 2 2 2 1 2 2 1 1 ...\n",
      " $ NationalITy             : Factor w/ 14 levels \"Egypt\",\"Iran\",..: 5 5 5 5 5 5 5 5 5 5 ...\n",
      " $ PlaceofBirth            : Factor w/ 14 levels \"Egypt\",\"Iran\",..: 5 5 5 5 5 5 5 5 5 5 ...\n",
      " $ StageID                 : Factor w/ 3 levels \"HighSchool\",\"lowerlevel\",..: 2 2 2 2 2 2 3 3 3 3 ...\n",
      " $ GradeID                 : Factor w/ 10 levels \"G-02\",\"G-04\",..: 2 2 2 2 2 2 5 5 5 5 ...\n",
      " $ SectionID               : Factor w/ 3 levels \"A\",\"B\",\"C\": 1 1 1 1 1 1 1 1 1 2 ...\n",
      " $ Topic                   : Factor w/ 12 levels \"Arabic\",\"Biology\",..: 8 8 8 8 8 8 9 9 9 8 ...\n",
      " $ Semester                : Factor w/ 2 levels \"F\",\"S\": 1 1 1 1 1 1 1 1 1 1 ...\n",
      " $ Relation                : Factor w/ 2 levels \"Father\",\"Mum\": 1 1 1 1 1 1 1 1 1 1 ...\n",
      " $ raisedhands             : int  15 20 10 30 40 42 35 50 12 70 ...\n",
      " $ VisITedResources        : int  16 20 7 25 50 30 12 10 21 80 ...\n",
      " $ AnnouncementsView       : int  2 3 0 5 12 13 0 15 16 25 ...\n",
      " $ Discussion              : int  20 25 30 35 50 70 17 22 50 70 ...\n",
      " $ ParentAnsweringSurvey   : Factor w/ 2 levels \"No\",\"Yes\": 2 2 1 1 1 2 1 2 2 2 ...\n",
      " $ ParentschoolSatisfaction: Factor w/ 2 levels \"Bad\",\"Good\": 2 2 1 1 1 1 1 2 2 2 ...\n",
      " $ StudentAbsenceDays      : Factor w/ 2 levels \"Above-7\",\"Under-7\": 2 2 1 1 1 1 1 2 2 2 ...\n",
      " $ Class                   : Factor w/ 3 levels \"H\",\"L\",\"M\": 3 3 2 2 3 3 2 3 3 3 ...\n"
     ]
    }
   ],
   "source": [
    "str(dataset)"
   ]
  },
  {
   "cell_type": "markdown",
   "metadata": {},
   "source": [
    "### Attributes\n",
    "\n",
    "1. Gender - student's gender (nominal: 'Male' or 'Female’)\n",
    "2. Nationality- student's nationality (nominal:’ Kuwait’,’ Lebanon’,’ Egypt’,’ SaudiArabia’,’ USA’,’ Jordan’,’ Venezuela’,’ Iran’,’ Tunis’,’ Morocco’,’ Syria’,’ Palestine’,’ Iraq’,’ Lybia’)\n",
    "3. Place of birth- student's Place of birth (nominal:’ Kuwait’,’ Lebanon’,’ Egypt’,’ SaudiArabia’,’ USA’,’ Jordan’,’ Venezuela’,’ Iran’,’ Tunis’,’ Morocco’,’ Syria’,’ Palestine’,’ Iraq’,’ Lybia’)\n",
    "4. Educational Stages- educational level student belongs (nominal: ‘lowerlevel’,’MiddleSchool’,’HighSchool’)\n",
    "5. Grade Levels- grade student belongs (nominal: ‘G-01’, ‘G-02’, ‘G-03’, ‘G-04’, ‘G-05’, ‘G-06’, ‘G-07’, ‘G-08’, ‘G-09’, ‘G-10’, ‘G-11’, ‘G-12 ‘)\n",
    "6. Section ID- classroom student belongs (nominal:’A’,’B’,’C’)\n",
    "7. Topic- course topic (nominal:’ English’,’ Spanish’, ‘French’,’ Arabic’,’ IT’,’ Math’,’ Chemistry’, ‘Biology’, ‘Science’,’ History’,’ Quran’,’ Geology’)\n",
    "8. Semester- school year semester (nominal:’ First’,’ Second’)\n",
    "9. Parent responsible for student (nominal:’mom’,’father’)\n",
    "10. Raised hand- how many times the student raises his/her hand on classroom (numeric:0-100)\n",
    "11. Visited resources- how many times the student visits a course content(numeric:0-100)\n",
    "12. Viewing announcements-how many times the student checks the new announcements(numeric:0-100)\n",
    "13. Discussion groups- how many times the student participate on discussion groups (numeric:0-100)\n",
    "14. Parent Answering Survey- parent answered the surveys which are provided from school or not (nominal:’Yes’,’No’)\n",
    "15. Parent School Satisfaction- the Degree of parent satisfaction from school(nominal:’Yes’,’No’)\n",
    "16. Student Absence Days-the number of absence days for each student (nominal: above-7, under-7)"
   ]
  },
  {
   "cell_type": "markdown",
   "metadata": {},
   "source": [
    "### Analisando agora cada uma das _features_"
   ]
  },
  {
   "cell_type": "code",
   "execution_count": 4,
   "metadata": {
    "collapsed": false
   },
   "outputs": [
    {
     "data": {
      "text/html": [
       "<ol class=list-inline>\n",
       "\t<li>'gender'</li>\n",
       "\t<li>'NationalITy'</li>\n",
       "\t<li>'PlaceofBirth'</li>\n",
       "\t<li>'StageID'</li>\n",
       "\t<li>'GradeID'</li>\n",
       "\t<li>'SectionID'</li>\n",
       "\t<li>'Topic'</li>\n",
       "\t<li>'Semester'</li>\n",
       "\t<li>'Relation'</li>\n",
       "\t<li>'raisedhands'</li>\n",
       "\t<li>'VisITedResources'</li>\n",
       "\t<li>'AnnouncementsView'</li>\n",
       "\t<li>'Discussion'</li>\n",
       "\t<li>'ParentAnsweringSurvey'</li>\n",
       "\t<li>'ParentschoolSatisfaction'</li>\n",
       "\t<li>'StudentAbsenceDays'</li>\n",
       "\t<li>'Class'</li>\n",
       "</ol>\n"
      ],
      "text/latex": [
       "\\begin{enumerate*}\n",
       "\\item 'gender'\n",
       "\\item 'NationalITy'\n",
       "\\item 'PlaceofBirth'\n",
       "\\item 'StageID'\n",
       "\\item 'GradeID'\n",
       "\\item 'SectionID'\n",
       "\\item 'Topic'\n",
       "\\item 'Semester'\n",
       "\\item 'Relation'\n",
       "\\item 'raisedhands'\n",
       "\\item 'VisITedResources'\n",
       "\\item 'AnnouncementsView'\n",
       "\\item 'Discussion'\n",
       "\\item 'ParentAnsweringSurvey'\n",
       "\\item 'ParentschoolSatisfaction'\n",
       "\\item 'StudentAbsenceDays'\n",
       "\\item 'Class'\n",
       "\\end{enumerate*}\n"
      ],
      "text/markdown": [
       "1. 'gender'\n",
       "2. 'NationalITy'\n",
       "3. 'PlaceofBirth'\n",
       "4. 'StageID'\n",
       "5. 'GradeID'\n",
       "6. 'SectionID'\n",
       "7. 'Topic'\n",
       "8. 'Semester'\n",
       "9. 'Relation'\n",
       "10. 'raisedhands'\n",
       "11. 'VisITedResources'\n",
       "12. 'AnnouncementsView'\n",
       "13. 'Discussion'\n",
       "14. 'ParentAnsweringSurvey'\n",
       "15. 'ParentschoolSatisfaction'\n",
       "16. 'StudentAbsenceDays'\n",
       "17. 'Class'\n",
       "\n",
       "\n"
      ],
      "text/plain": [
       " [1] \"gender\"                   \"NationalITy\"             \n",
       " [3] \"PlaceofBirth\"             \"StageID\"                 \n",
       " [5] \"GradeID\"                  \"SectionID\"               \n",
       " [7] \"Topic\"                    \"Semester\"                \n",
       " [9] \"Relation\"                 \"raisedhands\"             \n",
       "[11] \"VisITedResources\"         \"AnnouncementsView\"       \n",
       "[13] \"Discussion\"               \"ParentAnsweringSurvey\"   \n",
       "[15] \"ParentschoolSatisfaction\" \"StudentAbsenceDays\"      \n",
       "[17] \"Class\"                   "
      ]
     },
     "metadata": {},
     "output_type": "display_data"
    }
   ],
   "source": [
    "names(dataset)"
   ]
  },
  {
   "cell_type": "code",
   "execution_count": 5,
   "metadata": {
    "collapsed": false
   },
   "outputs": [
    {
     "data": {
      "text/plain": [
       " gender     NationalITy       PlaceofBirth         StageID       GradeID   \n",
       " F:175   KW       :179   KuwaIT     :180   HighSchool  : 33   G-02   :147  \n",
       " M:305   Jordan   :172   Jordan     :176   lowerlevel  :199   G-08   :116  \n",
       "         Palestine: 28   Iraq       : 22   MiddleSchool:248   G-07   :101  \n",
       "         Iraq     : 22   lebanon    : 19                      G-04   : 48  \n",
       "         lebanon  : 17   SaudiArabia: 16                      G-06   : 32  \n",
       "         Tunis    : 12   USA        : 16                      G-11   : 13  \n",
       "         (Other)  : 50   (Other)    : 51                      (Other): 23  \n",
       " SectionID     Topic     Semester   Relation    raisedhands    \n",
       " A:283     IT     : 95   F:245    Father:283   Min.   :  0.00  \n",
       " B:167     French : 65   S:235    Mum   :197   1st Qu.: 15.75  \n",
       " C: 30     Arabic : 59                         Median : 50.00  \n",
       "           Science: 51                         Mean   : 46.77  \n",
       "           English: 45                         3rd Qu.: 75.00  \n",
       "           Biology: 30                         Max.   :100.00  \n",
       "           (Other):135                                         \n",
       " VisITedResources AnnouncementsView   Discussion    ParentAnsweringSurvey\n",
       " Min.   : 0.0     Min.   : 0.00     Min.   : 1.00   No :210              \n",
       " 1st Qu.:20.0     1st Qu.:14.00     1st Qu.:20.00   Yes:270              \n",
       " Median :65.0     Median :33.00     Median :39.00                        \n",
       " Mean   :54.8     Mean   :37.92     Mean   :43.28                        \n",
       " 3rd Qu.:84.0     3rd Qu.:58.00     3rd Qu.:70.00                        \n",
       " Max.   :99.0     Max.   :98.00     Max.   :99.00                        \n",
       "                                                                         \n",
       " ParentschoolSatisfaction StudentAbsenceDays Class  \n",
       " Bad :188                 Above-7:191        H:142  \n",
       " Good:292                 Under-7:289        L:127  \n",
       "                                             M:211  \n",
       "                                                    \n",
       "                                                    \n",
       "                                                    \n",
       "                                                    "
      ]
     },
     "metadata": {},
     "output_type": "display_data"
    }
   ],
   "source": [
    "summary(dataset)"
   ]
  }
 ],
 "metadata": {
  "kernelspec": {
   "display_name": "R",
   "language": "R",
   "name": "ir"
  },
  "language_info": {
   "codemirror_mode": "r",
   "file_extension": ".r",
   "mimetype": "text/x-r-source",
   "name": "R",
   "pygments_lexer": "r",
   "version": "3.3.3"
  }
 },
 "nbformat": 4,
 "nbformat_minor": 2
}
